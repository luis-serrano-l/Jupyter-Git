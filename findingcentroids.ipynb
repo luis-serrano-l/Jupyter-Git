{
 "cells": [
  {
   "cell_type": "code",
   "execution_count": null,
   "metadata": {},
   "outputs": [],
   "source": [
    "import pandas as pd\n",
    "import numpy as np\n",
    "n = int(input())\n",
    "m=[]\n",
    "for i in range(n):\n",
    "    l=[]\n",
    "    l.append(input())\n",
    "    m.append(l)\n",
    "\n",
    "k=pd.DataFrame(m)\n",
    "g=[]\n",
    "for j in range(n):\n",
    "    op=pd.Series(k[0][j].split())\n",
    "    g.append(op)\n",
    "\n",
    "far=pd.DataFrame(g)\n",
    "a=np.array((0,0))\n",
    "b=np.array((2,2))\n",
    "a_list=[]\n",
    "b_list=[]\n",
    "def closer(x):\n",
    "    if np.linalg.norm(x-a)<=np.linalg.norm(x-b):\n",
    "        a_list.append(x)\n",
    "    else:\n",
    "        b_list.append(x)\n",
    "\n",
    "for h in range(n):\n",
    "    t=np.array((float(far.iloc[h][0]),float(far.iloc[h][1])))\n",
    "    closer(t)\n",
    "\n",
    "for h in range(n):\n",
    "    t=np.array((float(far.iloc[h][0]),float(far.iloc[h][1])))\n",
    "    closer(t)\n",
    "if len(a_list)>1:\n",
    "    hue=np.array((a_list[0]))  \n",
    "    for ij in range(len(a_list)-1):\n",
    "        hue+=np.array((a_list[ij+1]))\n",
    "    centroid_a=hue/len(a_list)\n",
    "    print(centroid_a.round(2))\n",
    "else:\n",
    "    print('None')\n",
    "if len(b_list)>1:\n",
    "    huej=np.array((b_list[0]))\n",
    "    for ji in range(len(b_list)-1):\n",
    "        huej+=np.array((b_list[ji+1]))  \n",
    "    centroid_b=huej/len(b_list)\n",
    "    print(centroid_b.round(2))\n",
    "else:\n",
    "    print('None')"
   ]
  }
 ],
 "metadata": {
  "language_info": {
   "name": "python"
  },
  "orig_nbformat": 4
 },
 "nbformat": 4,
 "nbformat_minor": 2
}
