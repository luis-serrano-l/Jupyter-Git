{
 "cells": [
  {
   "cell_type": "code",
   "execution_count": null,
   "metadata": {},
   "outputs": [],
   "source": [
    "\"\"\"\n",
    "Finding the next centroid\n",
    "\n",
    "Unsupervised learning algorithm clustering involves updating the centroid of each cluster. Here we find the next centroids for given data points and initial centroids.\n",
    "\n",
    "Task\n",
    "Assume that there are two clusters among the given two-dimensional data points and two random points (0, 0), and (2, 2) are the initial cluster centroids. Calculate the euclidean distance between each data point and each of the centroid, assign each data point to its nearest centroid, then calculate the new centroid. If there's a tie, assign the data point to the cluster with centroid (0, 0). If none of the data points were assigned to the given centroid, return None.\n",
    "\n",
    "Input Format\n",
    "First line: an integer to indicate the number of data points (n)\n",
    "Next n lines: two numeric values per each line to represent a data point in two dimensional space.\n",
    "\n",
    "Output Format\n",
    "Two lists for two centroids. Numbers are rounded to the second decimal place.\n",
    "\n",
    "Sample Input\n",
    "3\n",
    "1 0\n",
    "0 .5\n",
    "4 0\n",
    "\n",
    "Sample Output\n",
    "[0.5 0.25]\n",
    "[4. 0.]\n",
    "\n",
    "\"\"\""
   ]
  },
  {
   "cell_type": "code",
   "execution_count": null,
   "metadata": {},
   "outputs": [],
   "source": [
    "import pandas as pd\n",
    "import numpy as np\n",
    "n = int(input())\n",
    "m=[]\n",
    "for i in range(n):\n",
    "    l=[]\n",
    "    l.append(input())\n",
    "    m.append(l)\n",
    "\n",
    "k=pd.DataFrame(m)\n",
    "g=[]\n",
    "for j in range(n):\n",
    "    op=pd.Series(k[0][j].split())\n",
    "    g.append(op)\n",
    "\n",
    "far=pd.DataFrame(g)\n",
    "a=np.array((0,0))\n",
    "b=np.array((2,2))\n",
    "a_list=[]\n",
    "b_list=[]\n",
    "def closer(x):\n",
    "    if np.linalg.norm(x-a)<=np.linalg.norm(x-b):\n",
    "        a_list.append(x)\n",
    "    else:\n",
    "        b_list.append(x)\n",
    "\n",
    "for h in range(n):\n",
    "    t=np.array((float(far.iloc[h][0]),float(far.iloc[h][1])))\n",
    "    closer(t)\n",
    "\n",
    "for h in range(n):\n",
    "    t=np.array((float(far.iloc[h][0]),float(far.iloc[h][1])))\n",
    "    closer(t)\n",
    "if len(a_list)>1:\n",
    "    hue=np.array((a_list[0]))  \n",
    "    for ij in range(len(a_list)-1):\n",
    "        hue+=np.array((a_list[ij+1]))\n",
    "    centroid_a=hue/len(a_list)\n",
    "    print(centroid_a.round(2))\n",
    "else:\n",
    "    print('None')\n",
    "if len(b_list)>1:\n",
    "    huej=np.array((b_list[0]))\n",
    "    for ji in range(len(b_list)-1):\n",
    "        huej+=np.array((b_list[ji+1]))  \n",
    "    centroid_b=huej/len(b_list)\n",
    "    print(centroid_b.round(2))\n",
    "else:\n",
    "    print('None')"
   ]
  }
 ],
 "metadata": {
  "kernelspec": {
   "display_name": "Python 3.10.2 64-bit",
   "language": "python",
   "name": "python3"
  },
  "language_info": {
   "codemirror_mode": {
    "name": "ipython",
    "version": 3
   },
   "file_extension": ".py",
   "mimetype": "text/x-python",
   "name": "python",
   "nbconvert_exporter": "python",
   "pygments_lexer": "ipython3",
   "version": "3.10.2"
  },
  "orig_nbformat": 4,
  "vscode": {
   "interpreter": {
    "hash": "369f2c481f4da34e4445cda3fffd2e751bd1c4d706f27375911949ba6bb62e1c"
   }
  }
 },
 "nbformat": 4,
 "nbformat_minor": 2
}
