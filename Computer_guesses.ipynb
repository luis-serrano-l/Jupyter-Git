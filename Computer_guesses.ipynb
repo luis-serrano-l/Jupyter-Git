{
 "cells": [
  {
   "cell_type": "markdown",
   "metadata": {},
   "source": [
    "#The computer will guess my number given a range of numbers\n",
    "I will tell the computer if my number is lower or higher\n",
    "(This game is not optimized)"
   ]
  },
  {
   "cell_type": "code",
   "execution_count": 12,
   "metadata": {},
   "outputs": [],
   "source": [
    "import random"
   ]
  },
  {
   "cell_type": "code",
   "execution_count": null,
   "metadata": {},
   "outputs": [],
   "source": [
    "def computer_guesses(x):\n",
    "    til=x\n",
    "    my_feedback=''\n",
    "    low=1\n",
    "    while my_feedback!='c':\n",
    "        computer_guess = random.randint(low, til) if low!=til else low\n",
    "        my_feedback=input(f'Is {computer_guess} high (H) , low (L) or correct (C) ? ').lower()\n",
    "        if my_feedback=='h':\n",
    "            til=computer_guess-1\n",
    "            print(f'{computer_guess} is too high')\n",
    "        elif my_feedback=='l':\n",
    "            low=computer_guess+1\n",
    "            print(f'{computer_guess} is too low')\n",
    "    print(f'The computer has guessed {computer_guess} is your number haha')"
   ]
  },
  {
   "cell_type": "code",
   "execution_count": 13,
   "metadata": {},
   "outputs": [
    {
     "name": "stdout",
     "output_type": "stream",
     "text": [
      "4 is too high\n",
      "1 is too low\n",
      "The computer has guessed 3 is your number haha\n"
     ]
    }
   ],
   "source": [
    "computer_guesses(5)"
   ]
  }
 ],
 "metadata": {
  "kernelspec": {
   "display_name": "Python 3.10.2 64-bit",
   "language": "python",
   "name": "python3"
  },
  "language_info": {
   "codemirror_mode": {
    "name": "ipython",
    "version": 3
   },
   "file_extension": ".py",
   "mimetype": "text/x-python",
   "name": "python",
   "nbconvert_exporter": "python",
   "pygments_lexer": "ipython3",
   "version": "3.10.2"
  },
  "orig_nbformat": 4,
  "vscode": {
   "interpreter": {
    "hash": "369f2c481f4da34e4445cda3fffd2e751bd1c4d706f27375911949ba6bb62e1c"
   }
  }
 },
 "nbformat": 4,
 "nbformat_minor": 2
}
